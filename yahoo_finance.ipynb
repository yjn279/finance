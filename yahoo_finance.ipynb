{
  "nbformat": 4,
  "nbformat_minor": 0,
  "metadata": {
    "colab": {
      "name": "yahoo_finance.ipynb",
      "provenance": [],
      "collapsed_sections": [],
      "mount_file_id": "1qPmjE-FhbiqkieL1SWhQXasHQMktCs2s",
      "authorship_tag": "ABX9TyM2vImybvBLGhpCpIsi0n6a",
      "include_colab_link": true
    },
    "kernelspec": {
      "name": "python3",
      "display_name": "Python 3"
    }
  },
  "cells": [
    {
      "cell_type": "markdown",
      "metadata": {
        "id": "view-in-github",
        "colab_type": "text"
      },
      "source": [
        "<a href=\"https://colab.research.google.com/github/Yuji-207/Finance/blob/master/yahoo_finance.ipynb\" target=\"_parent\"><img src=\"https://colab.research.google.com/assets/colab-badge.svg\" alt=\"Open In Colab\"/></a>"
      ]
    },
    {
      "cell_type": "code",
      "metadata": {
        "id": "oq7lHvU1qyzp"
      },
      "source": [
        "import csv\n",
        "import json\n",
        "import itertools\n",
        "import requests\n",
        "import numpy as np\n",
        "import pandas as pd\n",
        "import datetime as dt\n",
        "import matplotlib.pyplot as plt\n",
        "from scipy import stats\n",
        "from bs4 import BeautifulSoup\n",
        "from mpl_toolkits.mplot3d import Axes3D"
      ],
      "execution_count": null,
      "outputs": []
    },
    {
      "cell_type": "code",
      "metadata": {
        "id": "VNYRmy8Ww_tJ"
      },
      "source": [
        "path = '/content/drive/MyDrive/assets'\n",
        "symbols = ['VT', 'BND', 'GLD']"
      ],
      "execution_count": null,
      "outputs": []
    },
    {
      "cell_type": "code",
      "metadata": {
        "id": "YvAs9S5qe7yc"
      },
      "source": [
        "symbols = ['VT']\n",
        "df1 = pd.read_csv(path + '/portfolios/VT.csv', names=symbols+['Return', 'Risk'])\n",
        "symbols = ['VTI', 'VXUS']\n",
        "df2 = pd.read_csv(path + '/portfolios/VTI_VXUS.csv', names=symbols+['Return', 'Risk'])\n",
        "symbols = ['VOO', 'VXUS']\n",
        "df3 = pd.read_csv(path + '/portfolios/VOO_VXUS.csv', names=symbols+['Return', 'Risk'])"
      ],
      "execution_count": null,
      "outputs": []
    },
    {
      "cell_type": "code",
      "metadata": {
        "id": "0JPSnEDL6LAR"
      },
      "source": [
        "symbols = ['GLD', 'SLV']\n",
        "df = pd.read_csv(path + '/portfolios/GLD_SLV.csv', names=symbols+['Return', 'Risk'])"
      ],
      "execution_count": null,
      "outputs": []
    },
    {
      "cell_type": "code",
      "metadata": {
        "colab": {
          "base_uri": "https://localhost:8080/",
          "height": 283
        },
        "id": "AS8uUO9at7yz",
        "outputId": "1cfb5b9d-f59d-4299-df35-737a483b14c7"
      },
      "source": [
        "# df = df[['SLV', 'Return', 'Risk']]\n",
        "plt.figure(facecolor='white')\n",
        "# plt.scatter(df1['Risk'], df1['Return'], s=1)\n",
        "plt.scatter(df['Risk'], df['Return'], c=df['SLV'], cmap='plasma', s=1)\n",
        "plt.colorbar()\n",
        "plt.xlabel('Risk')\n",
        "plt.ylabel('Return')\n",
        "plt.show()"
      ],
      "execution_count": null,
      "outputs": [
        {
          "output_type": "display_data",
          "data": {
            "image/png": "[encoded data removed]",
            "text/plain": [
              "<Figure size 432x288 with 2 Axes>"
            ]
          },
          "metadata": {
            "tags": []
          }
        }
      ]
    },
    {
      "cell_type": "code",
      "metadata": {
        "colab": {
          "base_uri": "https://localhost:8080/"
        },
        "id": "DQQ5yXkhDaqD",
        "outputId": "4c7d5415-a503-4745-df7b-eee74c12ea7e"
      },
      "source": [
        "symbols = ['GLD', 'SLV']\r\n",
        "\r\n",
        "for per in itertools.product(range(101), repeat=2):\r\n",
        "\r\n",
        "    if sum(per) != 100:\r\n",
        "        continue\r\n",
        "\r\n",
        "    portfolio = PortFolio(symbols, per, path+'/historical data')\r\n",
        "    returns = sum(portfolio.returns())\r\n",
        "    risks = portfolio.risks()\r\n",
        "    var = portfolio.var(risks)\r\n",
        "\r\n",
        "    with open(path + '/portfolios/GLD_SLV.csv', 'a') as f:\r\n",
        "        writer = csv.writer(f)\r\n",
        "        writer.writerow(per + (returns, var))\r\n",
        "\r\n",
        "    print(per)"
      ],
      "execution_count": null,
      "outputs": [
        {
          "output_type": "stream",
          "text": [
            "(0, 100)\n",
            "(1, 99)\n",
            "(2, 98)\n",
            "(3, 97)\n",
            "(4, 96)\n",
            "(5, 95)\n",
            "(6, 94)\n",
            "(7, 93)\n",
            "(8, 92)\n",
            "(9, 91)\n",
            "(10, 90)\n",
            "(11, 89)\n",
            "(12, 88)\n",
            "(13, 87)\n",
            "(14, 86)\n",
            "(15, 85)\n",
            "(16, 84)\n",
            "(17, 83)\n",
            "(18, 82)\n",
            "(19, 81)\n",
            "(20, 80)\n",
            "(21, 79)\n",
            "(22, 78)\n",
            "(23, 77)\n",
            "(24, 76)\n",
            "(25, 75)\n",
            "(26, 74)\n",
            "(27, 73)\n",
            "(28, 72)\n",
            "(29, 71)\n",
            "(30, 70)\n",
            "(31, 69)\n",
            "(32, 68)\n",
            "(33, 67)\n",
            "(34, 66)\n",
            "(35, 65)\n",
            "(36, 64)\n",
            "(37, 63)\n",
            "(38, 62)\n",
            "(39, 61)\n",
            "(40, 60)\n",
            "(41, 59)\n",
            "(42, 58)\n",
            "(43, 57)\n",
            "(44, 56)\n",
            "(45, 55)\n",
            "(46, 54)\n",
            "(47, 53)\n",
            "(48, 52)\n",
            "(49, 51)\n",
            "(50, 50)\n",
            "(51, 49)\n",
            "(52, 48)\n",
            "(53, 47)\n",
            "(54, 46)\n",
            "(55, 45)\n",
            "(56, 44)\n",
            "(57, 43)\n",
            "(58, 42)\n",
            "(59, 41)\n",
            "(60, 40)\n",
            "(61, 39)\n",
            "(62, 38)\n",
            "(63, 37)\n",
            "(64, 36)\n",
            "(65, 35)\n",
            "(66, 34)\n",
            "(67, 33)\n",
            "(68, 32)\n",
            "(69, 31)\n",
            "(70, 30)\n",
            "(71, 29)\n",
            "(72, 28)\n",
            "(73, 27)\n",
            "(74, 26)\n",
            "(75, 25)\n",
            "(76, 24)\n",
            "(77, 23)\n",
            "(78, 22)\n",
            "(79, 21)\n",
            "(80, 20)\n",
            "(81, 19)\n",
            "(82, 18)\n",
            "(83, 17)\n",
            "(84, 16)\n",
            "(85, 15)\n",
            "(86, 14)\n",
            "(87, 13)\n",
            "(88, 12)\n",
            "(89, 11)\n",
            "(90, 10)\n",
            "(91, 9)\n",
            "(92, 8)\n",
            "(93, 7)\n",
            "(94, 6)\n",
            "(95, 5)\n",
            "(96, 4)\n",
            "(97, 3)\n",
            "(98, 2)\n",
            "(99, 1)\n",
            "(100, 0)\n"
          ],
          "name": "stdout"
        }
      ]
    },
    {
      "cell_type": "code",
      "metadata": {
        "colab": {
          "base_uri": "https://localhost:8080/"
        },
        "id": "KoKo_tu0qCix",
        "outputId": "876122c0-0907-4b53-8898-f91d314316e6"
      },
      "source": [
        "symbols = ['GLD', 'SLV', 'PPLT']\n",
        "\n",
        "for symbol in symbols:\n",
        "    print(symbol)\n",
        "    inst = Symbol(symbol)\n",
        "    price, dividend = inst.history()\n",
        "    price.to_csv(f'{path}/historical data/prices/{symbol}.csv')\n",
        "    dividend.to_csv(f'{path}/historical data/dividends/{symbol}.csv')"
      ],
      "execution_count": null,
      "outputs": [
        {
          "output_type": "stream",
          "text": [
            "GLD\n",
            "SLV\n",
            "PPLT\n"
          ],
          "name": "stdout"
        }
      ]
    },
    {
      "cell_type": "code",
      "metadata": {
        "id": "tUtYItkdzmuO"
      },
      "source": [
        "class PortFolio:\n",
        " \n",
        " \n",
        "    def __init__(self, symbols, per, path):\n",
        " \n",
        "        per = np.array(per)\n",
        " \n",
        "        if len(symbols) == len(per):\n",
        "            if sum(per) == 100:\n",
        "                self.symbols = symbols\n",
        "                self.per = per / 100\n",
        "\n",
        "            else:\n",
        "                print('Sum of per is not 100.')\n",
        "        else:\n",
        "            print('Length of per is not same as number of symbols.')\n",
        "\n",
        "        for symbol in symbols:\n",
        "\n",
        "            price = pd.read_csv(f'{path}/prices/{symbol}.csv', usecols=['Date', 'Close*'])\n",
        "            dividend = pd.read_csv(f'{path}/dividends/{symbol}.csv')\n",
        "            \n",
        "            price['Date'] = pd.to_datetime(price['Date'])\n",
        "            dividend['Date'] = pd.to_datetime(dividend['Date'])\n",
        "            price = price.set_index('Date')\n",
        "            dividend = dividend.set_index('Date')\n",
        "\n",
        "            price.columns = [symbol]\n",
        "            dividend.columns = [symbol]\n",
        "\n",
        "            if symbol == symbols[0]:\n",
        "                prices = price\n",
        "                dividends = dividend\n",
        "            else:\n",
        "                prices = prices.join(price, how='outer')\n",
        "                dividends = dividends.join(dividend, how='outer')\n",
        " \n",
        "        self.prices = prices\n",
        "        self.dividends = dividends\n",
        "        self.period_delta = prices.count()\n",
        "\n",
        "\n",
        "    def returns(self):\n",
        "\n",
        "        profits = np.prod(self.prices.pct_change() + 1)\n",
        "        profits = profits ** (1 / self.period_delta) - 1\n",
        "        profits = sum(profits * self.per)\n",
        "\n",
        "        yields = (self.dividends / self.prices).sum()\n",
        "        yields = yields / self.period_delta\n",
        "        yields = sum(yields * self.per)\n",
        "\n",
        "        return profits, yields\n",
        "\n",
        " \n",
        "    def risks(self):\n",
        "        profits, _ = self.returns()\n",
        "        risks = (self.prices - profits).std()\n",
        "        risks = risks / np.sqrt(self.period_delta)\n",
        "        risks = risks * self.per\n",
        "        return risks\n",
        " \n",
        " \n",
        "    def var(self, vars):\n",
        " \n",
        "        corr = self.prices.corr()\n",
        " \n",
        "        vars = vars.values.reshape(1, -1)\n",
        "        var = np.dot(vars, corr)\n",
        "        var = np.dot(var, vars.T)\n",
        "        var = np.sqrt(var.reshape(-1))\n",
        " \n",
        "        return var[0]"
      ],
      "execution_count": null,
      "outputs": []
    },
    {
      "cell_type": "code",
      "metadata": {
        "id": "25WEUdB_hd7v"
      },
      "source": [
        "class Symbol:\n",
        " \n",
        " \n",
        "    def __init__(self, symbol, output=False):\n",
        "        self.url = 'https://finance.yahoo.com/quote/' + symbol\n",
        "        self.symbol = symbol\n",
        "        \n",
        "        if output:\n",
        "            print(self.url)\n",
        " \n",
        " \n",
        "    def summary(self):\n",
        "        dfs = pd.read_html(self.url, index_col=0)\n",
        "        summary = pd.concat([dfs[0], dfs[1]])\n",
        "        summary = summary.to_dict()[1]\n",
        "        return summary\n",
        " \n",
        " \n",
        "    def name(self):\n",
        "        res = requests.get(self.url)\n",
        "        soup = BeautifulSoup(res.content, 'html.parser')\n",
        "        name = soup.find('h1').text\n",
        "        return name\n",
        " \n",
        " \n",
        "    def history(self, period_open=None, period_close=None, frequency='day', filter='history', include_adjusted_close='true'):\n",
        " \n",
        "        if period_open:\n",
        "            period_open = dt.datetime.strptime(period_open, '%Y-%m-%d')\n",
        "        else:\n",
        "            period_open = dt.datetime.strptime('1970-01-01', '%Y-%m-%d')\n",
        " \n",
        "        if period_close:\n",
        "            period_close = dt.datetime.strptime(period_close, '%Y-%m-%d')\n",
        "        else:\n",
        "            period_close = dt.datetime.now()\n",
        " \n",
        "        period_delta = (period_close - period_open).days\n",
        "        \n",
        "        period_open = period_open.timestamp()\n",
        "        period_close = period_close.timestamp()\n",
        "        period_delta = dt.timedelta(days=101)\n",
        " \n",
        "        periods_open = int(period_open)\n",
        "        periods_close = int(period_close)\n",
        "        periods_delta = int(period_delta.total_seconds())\n",
        "\n",
        "        if frequency == 'day':\n",
        "            interval = '1d'\n",
        "            frequency = '1d'\n",
        " \n",
        "        elif frequency == 'month':\n",
        "            interval = '1mo'\n",
        "            frequency = '1mo'\n",
        " \n",
        "        for period1 in range(periods_open, periods_close, periods_delta):\n",
        " \n",
        "            period1 = dt.timedelta(seconds=period1)\n",
        "            period2 = period1 + dt.timedelta(days=100)\n",
        "            period1 = str(int(period1.total_seconds()))\n",
        "            period2 = str(int(period2.total_seconds()))\n",
        " \n",
        "            url = self.url + '/history'\n",
        "            url += '?period1=' + period1 + '&period2=' + period2 + '&interval=' + interval + '&filter=' + filter + '&frequency=' + frequency + '&includeAdjustedClose=' + include_adjusted_close\n",
        " \n",
        "            if period1 == str(periods_open):\n",
        "                history = pd.read_html(url)[0][:-1]\n",
        "            else:\n",
        "                history_add = pd.read_html(url)[0][:-1]\n",
        "                history = pd.concat([history_add, history])\n",
        " \n",
        "        history = history.replace(['-', '.* Stock Split'], np.nan, regex=True)\n",
        "        history = history.dropna(how='any')\n",
        " \n",
        "        history['Date'] = pd.to_datetime(history['Date'])\n",
        "        history = history.set_index('Date')\n",
        "        history = history[::-1]\n",
        "\n",
        "        dividend = history['Open'].str.contains('Dividend')\n",
        "        price = history[~dividend].astype(float)\n",
        "        dividend = history[dividend]\n",
        "\n",
        "        dividend = dividend['Open']\n",
        "        dividend = dividend.str.replace(' Dividend', '')\n",
        "        dividend = dividend.astype(float)\n",
        "        dividend.name = 'Dividend'\n",
        "\n",
        "        return price, dividend"
      ],
      "execution_count": null,
      "outputs": []
    }
  ]
}